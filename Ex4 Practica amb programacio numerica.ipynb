{
 "cells": [
  {
   "cell_type": "markdown",
   "metadata": {},
   "source": [
    "# Exercici 1"
   ]
  },
  {
   "cell_type": "code",
   "execution_count": 16,
   "metadata": {},
   "outputs": [
    {
     "name": "stdout",
     "output_type": "stream",
     "text": [
      "[65 13 81 27 27 29  2  2 10 59]\n"
     ]
    }
   ],
   "source": [
    "import numpy as np\n",
    "from numpy import random\n",
    "\n",
    "arr = np.array(random.randint(100, size=(10)))\n",
    "\n",
    "print(arr)"
   ]
  },
  {
   "cell_type": "code",
   "execution_count": 23,
   "metadata": {},
   "outputs": [
    {
     "name": "stdout",
     "output_type": "stream",
     "text": [
      "Mitja:  31.5\n",
      "Mediana:  27.0\n",
      "Mínim:  2\n",
      "Màxim:  81\n",
      "Rang:  79\n",
      "Variança:  692.05\n",
      "Desviació estandard:  26.306843216167156\n"
     ]
    }
   ],
   "source": [
    "def resumEstadistic(arr):\n",
    "    mitja = np.mean(arr)\n",
    "    mediana = np.median(arr)\n",
    "    minim = np.amin(arr)\n",
    "    maxim = np.amax(arr)\n",
    "    rang = np.ptp(arr)\n",
    "    variança = np.var(arr)\n",
    "    desviacio = np.std(arr)\n",
    "    \n",
    "    if arr.ndim >1:\n",
    "        return \"error\"\n",
    "    else:\n",
    "        return mitja, mediana, minim, maxim, rang, variança, desviacio\n",
    "\n",
    "estadistics = resumEstadistic(arr)\n",
    "\n",
    "print(\"Mitja: \", estadistics[0])\n",
    "print(\"Mediana: \", estadistics[1])\n",
    "print(\"Mínim: \", estadistics[2])\n",
    "print(\"Màxim: \", estadistics[3])\n",
    "print(\"Rang: \", estadistics[4])\n",
    "print(\"Variança: \", estadistics[5])\n",
    "print(\"Desviació estandard: \", estadistics[6])\n"
   ]
  },
  {
   "cell_type": "markdown",
   "metadata": {},
   "source": [
    "# Exercici 2"
   ]
  },
  {
   "cell_type": "code",
   "execution_count": null,
   "metadata": {},
   "outputs": [],
   "source": [
    "def quadrat(n):\n",
    "    llista = []\n",
    "    for i in range(n*n):\n",
    "        llista.append(random.randint(100))\n",
    "    llista = np.array(llista)\n",
    "    matriu = llista.reshape(n,n)\n",
    "    return matriu\n",
    "\n",
    "n=int(input(\"Introdueix un nombre: \"))\n",
    "matriu = quadrat(n)\n",
    "print(matriu)"
   ]
  },
  {
   "cell_type": "markdown",
   "metadata": {},
   "source": [
    "# Exercici 3"
   ]
  },
  {
   "cell_type": "code",
   "execution_count": 63,
   "metadata": {},
   "outputs": [
    {
     "name": "stdout",
     "output_type": "stream",
     "text": [
      "Totals per columna:  [194 186  46 215] \n",
      "Totals per fila:  [ 99 128 145 269]\n"
     ]
    }
   ],
   "source": [
    "#Utilitzant la matriu anterior:\n",
    "def totals(arr):\n",
    "    columna=np.sum(arr,0)\n",
    "    fila = np.sum(arr,1)\n",
    "        \n",
    "    return columna, fila\n",
    "print(\"Totals per columna: \",totals(matriu)[0],\"\\nTotals per fila: \",totals(matriu)[1])"
   ]
  },
  {
   "cell_type": "markdown",
   "metadata": {},
   "source": [
    "# Exercici 4"
   ]
  },
  {
   "cell_type": "code",
   "execution_count": 90,
   "metadata": {},
   "outputs": [
    {
     "name": "stdout",
     "output_type": "stream",
     "text": [
      "[14, 67, 35, 94, 26, 79, 1, 1, 60, 14, 84, 14, 29, 30, 88, 34, 67, 50, 47, 16] \n",
      " [84, 67, 64, 10, 84, 89, 97, 36, 5, 78, 25, 8, 65, 31, 53, 87, 60, 11, 77, 29]\n"
     ]
    }
   ],
   "source": [
    "x = []\n",
    "y = []\n",
    "for i in range(20):\n",
    "    x.append(random.randint(100))\n",
    "    y.append(random.randint(100))\n",
    "\n",
    "print(x,\"\\n\",y)"
   ]
  },
  {
   "cell_type": "code",
   "execution_count": 98,
   "metadata": {},
   "outputs": [
    {
     "name": "stdout",
     "output_type": "stream",
     "text": [
      "Coeficient de correlació entre les variables x i y:  -0.25220543242836263\n"
     ]
    },
    {
     "data": {
      "text/plain": [
       "Text(0, 0.5, 'y')"
      ]
     },
     "execution_count": 98,
     "metadata": {},
     "output_type": "execute_result"
    },
    {
     "data": {
      "image/png": "[encoded data removed]",
      "text/plain": [
       "<Figure size 432x288 with 1 Axes>"
      ]
     },
     "metadata": {
      "needs_background": "light"
     },
     "output_type": "display_data"
    }
   ],
   "source": [
    "def coefCorrelacio(x,y):\n",
    "    covariança = np.cov(x,y)\n",
    "    desviacioX = np.std(x)\n",
    "    desviacioY = np.std(y)\n",
    "    covariançaXY = covariança[0,1]\n",
    "    correlacio = covariançaXY/(desviacioX*desviacioY)\n",
    "    return correlacio\n",
    "\n",
    "print(\"Coeficient de correlació entre les variables x i y: \",coefCorrelacio(x,y))\n",
    "\n",
    "import matplotlib.pyplot as plt\n",
    "plt.scatter(x, y)\n",
    "plt.plot(np.unique(x), np.poly1d(np.polyfit(x, y, 1))\n",
    "         (np.unique(x)), color='red')\n",
    "plt.xlabel(\"x\")\n",
    "plt.ylabel(\"y\")\n",
    "\n",
    "#correlació: relació entre dues variables. En el grafic no s'ajusten a la línia, no tenen gaire correlació."
   ]
  }
 ],
 "metadata": {
  "kernelspec": {
   "display_name": "Python 3",
   "language": "python",
   "name": "python3"
  },
  "language_info": {
   "codemirror_mode": {
    "name": "ipython",
    "version": 3
   },
   "file_extension": ".py",
   "mimetype": "text/x-python",
   "name": "python",
   "nbconvert_exporter": "python",
   "pygments_lexer": "ipython3",
   "version": "3.8.3"
  }
 },
 "nbformat": 4,
 "nbformat_minor": 4
}
